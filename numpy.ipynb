{
 "cells": [
  {
   "cell_type": "code",
   "execution_count": 10,
   "id": "f0d7261c",
   "metadata": {},
   "outputs": [
    {
     "data": {
      "text/plain": [
       "array([[0, 1, 2],\n",
       "       [1, 2, 3],\n",
       "       [2, 3, 4]], dtype=int32)"
      ]
     },
     "execution_count": 10,
     "metadata": {},
     "output_type": "execute_result"
    }
   ],
   "source": [
    "import numpy as np\n",
    "def range_squre_matrix(n):\n",
    "\n",
    "    matrix = np.zeros((n, n), dtype=np.int32)\n",
    "    for i in range(n):\n",
    "        matrix[i,:] = np.arange(i, n+i, 1)\n",
    "    return matrix\n",
    "\n",
    "range_squre_matrix(3)"
   ]
  },
  {
   "cell_type": "code",
   "execution_count": null,
   "id": "51852d6e",
   "metadata": {},
   "outputs": [
    {
     "name": "stdout",
     "output_type": "stream",
     "text": [
      "[1, 5, 5, 5, 5, 6, 7, 8, 9]\n"
     ]
    }
   ],
   "source": [
    "a = [1, 2, 3, 4, 5, 6, 7, 8, 9]\n",
    "a[1:4] = 5,5,5\n",
    "# a[1:4] = 6 # error\n",
    "print(a)"
   ]
  },
  {
   "cell_type": "code",
   "execution_count": 16,
   "id": "3cea9809",
   "metadata": {},
   "outputs": [
    {
     "name": "stdout",
     "output_type": "stream",
     "text": [
      "[[0 1 2]\n",
      " [3 4 5]\n",
      " [6 7 8]]\n",
      "2\n",
      "[[0 1]\n",
      " [3 4]]\n"
     ]
    }
   ],
   "source": [
    "a = np.arange(9).reshape(3, 3)\n",
    "print(a)\n",
    "print(a.ndim)\n",
    "print(a[:2, :2])"
   ]
  },
  {
   "cell_type": "code",
   "execution_count": 18,
   "id": "6fbe7af6",
   "metadata": {},
   "outputs": [
    {
     "name": "stdout",
     "output_type": "stream",
     "text": [
      "(0,) 0\n",
      "(1,) 1\n",
      "(2,) 2\n",
      "(0, 0) 0\n",
      "(0, 1) 1\n",
      "(0, 2) 2\n",
      "(1, 0) 3\n",
      "(1, 1) 4\n",
      "(1, 2) 5\n"
     ]
    }
   ],
   "source": [
    "for idx, e  in np.ndenumerate(np.arange(3)):\n",
    "    print(idx, e)\n",
    "for idx, e  in np.ndenumerate(np.arange(6).reshape(2, 3)):\n",
    "    print(idx, e)"
   ]
  }
 ],
 "metadata": {
  "kernelspec": {
   "display_name": "ml_env_latest",
   "language": "python",
   "name": "python3"
  },
  "language_info": {
   "codemirror_mode": {
    "name": "ipython",
    "version": 3
   },
   "file_extension": ".py",
   "mimetype": "text/x-python",
   "name": "python",
   "nbconvert_exporter": "python",
   "pygments_lexer": "ipython3",
   "version": "3.13.2"
  }
 },
 "nbformat": 4,
 "nbformat_minor": 5
}
