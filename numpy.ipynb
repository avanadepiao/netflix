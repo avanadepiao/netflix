{
 "cells": [
  {
   "cell_type": "code",
   "execution_count": 2,
   "id": "f0d7261c",
   "metadata": {},
   "outputs": [
    {
     "data": {
      "text/plain": [
       "array([[0, 1, 2],\n",
       "       [1, 2, 3],\n",
       "       [2, 3, 4]], dtype=int32)"
      ]
     },
     "execution_count": 2,
     "metadata": {},
     "output_type": "execute_result"
    }
   ],
   "source": [
    "import numpy as np\n",
    "def range_squre_matrix(n):\n",
    "\n",
    "    matrix = np.zeros((n, n), dtype=np.int32)\n",
    "    for i in range(n):\n",
    "        matrix[i,:] = np.arange(i, n+i, 1)\n",
    "    return matrix\n",
    "\n",
    "range_squre_matrix(3)"
   ]
  },
  {
   "cell_type": "code",
   "execution_count": null,
   "id": "51852d6e",
   "metadata": {},
   "outputs": [
    {
     "name": "stdout",
     "output_type": "stream",
     "text": [
      "[1, 5, 5, 5, 5, 6, 7, 8, 9]\n"
     ]
    }
   ],
   "source": [
    "a = [1, 2, 3, 4, 5, 6, 7, 8, 9]\n",
    "a[1:4] = 5,5,5\n",
    "# a[1:4] = 6 # error\n",
    "print(a)"
   ]
  },
  {
   "cell_type": "code",
   "execution_count": 16,
   "id": "3cea9809",
   "metadata": {},
   "outputs": [
    {
     "name": "stdout",
     "output_type": "stream",
     "text": [
      "[[0 1 2]\n",
      " [3 4 5]\n",
      " [6 7 8]]\n",
      "2\n",
      "[[0 1]\n",
      " [3 4]]\n"
     ]
    }
   ],
   "source": [
    "a = np.arange(9).reshape(3, 3)\n",
    "print(a)\n",
    "print(a.ndim)\n",
    "print(a[:2, :2])"
   ]
  },
  {
   "cell_type": "code",
   "execution_count": 18,
   "id": "6fbe7af6",
   "metadata": {},
   "outputs": [
    {
     "name": "stdout",
     "output_type": "stream",
     "text": [
      "(0,) 0\n",
      "(1,) 1\n",
      "(2,) 2\n",
      "(0, 0) 0\n",
      "(0, 1) 1\n",
      "(0, 2) 2\n",
      "(1, 0) 3\n",
      "(1, 1) 4\n",
      "(1, 2) 5\n"
     ]
    }
   ],
   "source": [
    "for idx, e  in np.ndenumerate(np.arange(3)):\n",
    "    print(idx, e)\n",
    "for idx, e  in np.ndenumerate(np.arange(6).reshape(2, 3)):\n",
    "    print(idx, e)"
   ]
  },
  {
   "cell_type": "code",
   "execution_count": 6,
   "id": "184faf5e",
   "metadata": {},
   "outputs": [
    {
     "name": "stdout",
     "output_type": "stream",
     "text": [
      "[[ 0  1  2  3]\n",
      " [ 4  5  6  7]\n",
      " [ 8  9 10 11]]\n",
      "[12 15 18 21]\n",
      "[ 6 22 38]\n",
      "[[12 15 18 21]]\n",
      "[[ 6]\n",
      " [22]\n",
      " [38]]\n",
      "(1, 4)\n",
      "(3, 1)\n",
      "[ 3  7 11]\n",
      "[0. 0. 0. 0.]\n"
     ]
    }
   ],
   "source": [
    "a = np.arange(12).reshape(3, 4)\n",
    "print(a)\n",
    "print(a.sum(axis=0)) # sum of each column\n",
    "print(a.sum(axis=1)) # sum of each row\n",
    "print(a.sum(axis=0, keepdims=True)) # sum of each column, keep the dimension\n",
    "print(a.sum(axis=1, keepdims=True)) # sum of each row, keep the dimension\n",
    "print(a.sum(axis=0, keepdims=True).shape) # sum of each column, keep the dimension\n",
    "print(a.sum(axis=1, keepdims=True).shape) # sum of each row, keep the dimension\n",
    "print(a[:, 3])\n",
    "print(np.zeros(4))"
   ]
  },
  {
   "cell_type": "code",
   "execution_count": null,
   "id": "a5b4fea9",
   "metadata": {},
   "outputs": [
    {
     "name": "stdout",
     "output_type": "stream",
     "text": [
      "[[ 0  1  2  3]\n",
      " [ 4  5  6  7]\n",
      " [ 8  9 10 11]]\n",
      "[[False False  True  True]\n",
      " [ True  True  True  True]\n",
      " [ True  True  True  True]]\n",
      "[2 4 4]\n"
     ]
    }
   ],
   "source": [
    "a = np.arange(12).reshape(3, 4)\n",
    "print(a)\n",
    "print(a>1)\n",
    "print((a>1).sum(axis=1))\n",
    "b = a>1\n",
    "print()"
   ]
  }
 ],
 "metadata": {
  "kernelspec": {
   "display_name": "ml_env_latest",
   "language": "python",
   "name": "python3"
  },
  "language_info": {
   "codemirror_mode": {
    "name": "ipython",
    "version": 3
   },
   "file_extension": ".py",
   "mimetype": "text/x-python",
   "name": "python",
   "nbconvert_exporter": "python",
   "pygments_lexer": "ipython3",
   "version": "3.13.2"
  }
 },
 "nbformat": 4,
 "nbformat_minor": 5
}
