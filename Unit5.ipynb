{
 "cells": [
  {
   "cell_type": "code",
   "execution_count": 23,
   "id": "b5150ded",
   "metadata": {},
   "outputs": [
    {
     "name": "stdout",
     "output_type": "stream",
     "text": [
      "0.0002\n",
      "0.00106\n",
      "0.01458\n",
      "0.2\n",
      "0.74286\n"
     ]
    }
   ],
   "source": [
    "def value_iteration(iteration):\n",
    "    # lambda = 0.5\n",
    "    V = [0, 0, 0, 0, 0]\n",
    "    for i in range(iteration):\n",
    "        V[0] = transition_p(1) * 0.5 * V[1]\n",
    "        V[1] = transition_p(2) * 0.5 * V[2]\n",
    "        V[2] = transition_p(3) * 0.5 * V[3]\n",
    "        V[3] = transition_p(4) * 0.5 * V[4] + transition_p(4)\n",
    "        V[4] = transition_p(5) * 0.5 * V[4] + transition_p(5)\n",
    "    \n",
    "    return V\n",
    "\n",
    "def transition_p(s):\n",
    "    '''\n",
    "    s = {1,2,3,4,5}\n",
    "    a = {stay, move}\n",
    "    '''\n",
    "    # S = 1 S =2に右に移動する確率 \n",
    "    # move * left * success +  move * fail * neighbor + stay * fail * neighbor\n",
    "    p_s1tos2 = 0.5 * 0.5 * 1/3 + 0.5 * 2/3 * 1/2 + 0.5 * 0.5 * 0.5\n",
    "    \n",
    "    # S = 5 stayの確率\n",
    "    # move * fail * neighbor_fail + stay * success +  stay * fail * neighbor_fail\n",
    "    p_s5 = 0.5 * 2/3 * 0.5  + 0.5 * 0.5 + 0.5 * 0.5 * 0.5\n",
    "\n",
    "    # S = 2, 3, 4 other右に移動する確率\n",
    "    # move * left * success + stay * fail * right\n",
    "    p_other = 0.5 * 0.5 * 1/3 + 0.5 * 0.5 * 0.25\n",
    "\n",
    "    if s == 1:\n",
    "        return p_s1tos2\n",
    "    elif s == 5:\n",
    "        return p_s5\n",
    "    else:\n",
    "        return p_other\n",
    "    \n",
    "# 実行\n",
    "result, result2, result3 = value_iteration(100), value_iteration(200), value_iteration(10)\n",
    "result, result2, result3\n",
    "\n",
    "for i in result:\n",
    "    print(round(i, 5))"
   ]
  },
  {
   "cell_type": "code",
   "execution_count": 5,
   "id": "1f97bc47",
   "metadata": {},
   "outputs": [
    {
     "name": "stdout",
     "output_type": "stream",
     "text": [
      "0.375 0.5416666666666666 0.08333333333333333\n",
      "1.0\n"
     ]
    },
    {
     "data": {
      "text/plain": [
       "3"
      ]
     },
     "execution_count": 5,
     "metadata": {},
     "output_type": "execute_result"
    }
   ],
   "source": [
    "    # S = 1 S =2に右に移動する確率 \n",
    "    # move * left * success +  move * fail * neighbor + stay * fail * neighbor\n",
    "    p_s1tos2 = 0.5 * 0.5 * 1/3 + 0.5 * 2/3 * 1/2 + 0.5 * 0.5 * 0.5\n",
    "    \n",
    "    # S = 5 stayの確率\n",
    "    # move * fail * neighbor_fail + stay * success +  stay * fail * neighbor_fail\n",
    "    p_s5 = 0.5 * 2/3 * 0.5  + 0.5 * 0.5 + 0.5 * 0.5 * 0.5\n",
    "\n",
    "    # S = 2, 3, 4 other右に移動する確率\n",
    "    # move * left * success\n",
    "    p_other = 0.5 * 0.5 * 1/3\n",
    "    print(p_s1tos2, p_s5, p_other)\n",
    "    print(p_s1tos2 + p_s5 +p_other)\n",
    "    v = [1,2,3]\n",
    "    len(v)"
   ]
  },
  {
   "cell_type": "code",
   "execution_count": 31,
   "id": "a39b5367",
   "metadata": {},
   "outputs": [
    {
     "name": "stdout",
     "output_type": "stream",
     "text": [
      "[0.00833333 0.025      0.1        0.4        1.6       ]\n",
      "(5, 3, 5)\n",
      "[0. 0. 0. 0. 1.]\n"
     ]
    }
   ],
   "source": [
    "import numpy as np\n",
    "\n",
    "state = [0, 1, 2, 3, 4]\n",
    "action = [0, 1, 2] # left, staying, right\n",
    "T = np.array([[[1/2,1/2,0,0,0], [1/2,1/2,0,0,0], [2/3,1/3,0,0,0]],\n",
    "              [[1/3,2/3,0,0,0], [1/4,1/2,1/4,0,0], [0,2/3,1/3,0,0]],\n",
    "              [[0,1/3,2/3,0,0], [0,1/4,1/2,1/4,0], [0,0,2/3,1/3,0]],\n",
    "              [[0,0,1/3,2/3,0], [0,0,1/4,1/2,1/4], [0,0,0,2/3,1/3]],\n",
    "              [[0,0,0,1/3,2/3], [0,0,0,1/2,1/2], [0,0,0,1/2,1/2]], ])\n",
    "num_state = 5\n",
    "num_action = 3\n",
    "r = 0.5\n",
    "V = np.zeros(5)\n",
    "R = np.zeros(5)\n",
    "R[4] = 1\n",
    "num_iter = 100\n",
    "for i in range(num_iter):\n",
    "    Q = [[sum([T[s][a][t] * (R[s] + r * V[t]) for t in range(num_state)]) for a in range(num_action)] for s in range(num_state)]\n",
    "    V = np.max(Q, axis=1)\n",
    "print(V)\n",
    "# print(T)\n",
    "print(T.shape)\n",
    "print(R)"
   ]
  }
 ],
 "metadata": {
  "kernelspec": {
   "display_name": "ml_env_latest",
   "language": "python",
   "name": "python3"
  },
  "language_info": {
   "codemirror_mode": {
    "name": "ipython",
    "version": 3
   },
   "file_extension": ".py",
   "mimetype": "text/x-python",
   "name": "python",
   "nbconvert_exporter": "python",
   "pygments_lexer": "ipython3",
   "version": "3.13.2"
  }
 },
 "nbformat": 4,
 "nbformat_minor": 5
}
